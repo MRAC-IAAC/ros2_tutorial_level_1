{
 "cells": [
  {
   "cell_type": "code",
   "execution_count": 27,
   "metadata": {},
   "outputs": [],
   "source": [
    "import rclpy\n",
    "from rclpy.node import Node\n",
    "from turtlesim.srv import Spawn\n",
    "from geometry_msgs.msg import Twist\n",
    "import random\n",
    "import time\n",
    "\n",
    "rclpy.init()\n",
    "node = Node('turtle_controller')\n",
    "\n",
    "# create spawn client\n",
    "spawn_client = node.create_client(Spawn, 'spawn')\n",
    "while not spawn_client.wait_for_service(timeout_sec=1.0):\n",
    "    node.get_logger().info('Waiting for spawn service...')\n",
    "\n",
    "publisher = None"
   ]
  },
  {
   "cell_type": "code",
   "execution_count": 30,
   "metadata": {},
   "outputs": [
    {
     "name": "stderr",
     "output_type": "stream",
     "text": [
      "[INFO] [1734692336.478835545] [turtle_controller]: Spawned new turtle: turtle_585 at (5.52, 3.47)\n"
     ]
    }
   ],
   "source": [
    "# random coordinates and orientation\n",
    "x = random.uniform(2.0, 9.0)  # avoid edges\n",
    "y = random.uniform(2.0, 9.0)\n",
    "theta = random.uniform(0.0, 6.28)  # 0 to 2*pi\n",
    "\n",
    "# spawn request\n",
    "request = Spawn.Request()\n",
    "request.x = x\n",
    "request.y = y\n",
    "request.theta = theta\n",
    "request.name = f'turtle_{random.randint(1, 1000)}'\n",
    "\n",
    "# call spawn\n",
    "future = spawn_client.call_async(request)\n",
    "rclpy.spin_until_future_complete(node, future)\n",
    "\n",
    "if future.result() is not None:\n",
    "    turtle_name = future.result().name\n",
    "    node.get_logger().info(f'Spawned new turtle: {turtle_name} at ({x:.2f}, {y:.2f})')\n",
    "    publisher = node.create_publisher(Twist, f'/{turtle_name}/cmd_vel', 10) # publisher for the new turtle\n",
    "else:\n",
    "    node.get_logger().error('Failed to spawn turtle.')\n"
   ]
  },
  {
   "cell_type": "code",
   "execution_count": 31,
   "metadata": {},
   "outputs": [
    {
     "name": "stderr",
     "output_type": "stream",
     "text": [
      "[INFO] [1734692339.316711180] [turtle_controller]: Moving in a circle for 6.28 seconds.\n",
      "[INFO] [1734692345.658921405] [turtle_controller]: Completed circular trajectory.\n"
     ]
    },
    {
     "data": {
      "text/plain": [
       "True"
      ]
     },
     "execution_count": 31,
     "metadata": {},
     "output_type": "execute_result"
    }
   ],
   "source": [
    "if publisher is None:\n",
    "    node.get_logger().error('No publisher available. Spawn a turtle first.')\n",
    "    publisher = node.create_publisher(Twist, f'/turtle1/cmd_vel', 10)\n",
    "\n",
    "radius = 1.0\n",
    "angular_velocity = 1.0  # rad/s\n",
    "linear_velocity = radius * angular_velocity  # v = r * ω\n",
    "\n",
    "twist = Twist()\n",
    "twist.linear.x = linear_velocity  # forward\n",
    "twist.angular.z = angular_velocity  # angular\n",
    "\n",
    "# circle duration = 2 * pi / angular\n",
    "duration = 2 * 3.14159 / angular_velocity\n",
    "node.get_logger().info(f'Moving in a circle for {duration:.2f} seconds.')\n",
    "\n",
    "start_time = node.get_clock().now()\n",
    "while (node.get_clock().now() - start_time).nanoseconds < duration * 1e9:\n",
    "    publisher.publish(twist)\n",
    "    time.sleep(0.1)\n",
    "\n",
    "# stop turtle\n",
    "twist.linear.x = 0.0\n",
    "twist.angular.z = 0.0\n",
    "publisher.publish(twist)\n",
    "node.get_logger().info('Completed circular trajectory.')\n"
   ]
  },
  {
   "cell_type": "code",
   "execution_count": 26,
   "metadata": {},
   "outputs": [
    {
     "name": "stdout",
     "output_type": "stream",
     "text": [
      "ROS 2 node successfully shut down.\n"
     ]
    }
   ],
   "source": [
    "if node is not None:\n",
    "    node.destroy_node()\n",
    "    rclpy.shutdown()\n",
    "    print(\"ROS 2 node successfully shut down.\")\n",
    "else:\n",
    "    print(\"No active ROS 2 node to shut down.\")"
   ]
  }
 ],
 "metadata": {
  "kernelspec": {
   "display_name": "Python 3",
   "language": "python",
   "name": "python3"
  },
  "language_info": {
   "codemirror_mode": {
    "name": "ipython",
    "version": 3
   },
   "file_extension": ".py",
   "mimetype": "text/x-python",
   "name": "python",
   "nbconvert_exporter": "python",
   "pygments_lexer": "ipython3",
   "version": "3.10.12"
  }
 },
 "nbformat": 4,
 "nbformat_minor": 2
}
